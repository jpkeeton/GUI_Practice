{
 "cells": [
  {
   "cell_type": "markdown",
   "metadata": {},
   "source": [
    "**GUI Studies**"
   ]
  },
  {
   "cell_type": "markdown",
   "metadata": {},
   "source": [
    "Here I'll be exploring different GUI options in Python, like PySimpleGUI and tkinter \n",
    "\n",
    "\n",
    "Resources:\n",
    "    * tkinter\n",
    "        * https://docs.python.org/3/library/tkinter.html\n",
    "    * PySimpleGUI\n",
    "        * https://pysimplegui.readthedocs.io/en/latest/#theme-name-formula\n",
    "        * https://pysimplegui.readthedocs.io/en/latest/#default-is-dark-blue-3\n",
    "        * https://pysimplegui.readthedocs.io/en/latest/#themes-automatic-coloring-of-your-windows\n",
    "        * https://pysimplegui.readthedocs.io/en/latest/cookbook"
   ]
  },
  {
   "cell_type": "code",
   "execution_count": 3,
   "metadata": {},
   "outputs": [],
   "source": [
    "import PySimpleGUI as sg"
   ]
  },
  {
   "cell_type": "code",
   "execution_count": 4,
   "metadata": {},
   "outputs": [],
   "source": [
    "# %run C:/Users/jpkee/PycharmProjects/LyndaScriptingForTesters/GUI_Test.py"
   ]
  },
  {
   "cell_type": "code",
   "execution_count": 5,
   "metadata": {},
   "outputs": [
    {
     "name": "stdout",
     "output_type": "stream",
     "text": [
      "You entered  asdfa\n"
     ]
    }
   ],
   "source": [
    "sg.theme('DarkGreen2')   # Add a touch of color\n",
    "# All the stuff inside your window.\n",
    "layout = [  [sg.Text('Some text on Row 1')],\n",
    "            [sg.Text('Enter something on Row 2'), sg.InputText()],\n",
    "            [sg.Button('Ok'), sg.Button('Cancel')] ]\n",
    "\n",
    "# Create the Window\n",
    "window = sg.Window('Window Title', layout)\n",
    "# # Event Loop to process \"events\" and get the \"values\" of the inputs\n",
    "while True:\n",
    "    event, values = window.read()\n",
    "    if event in (None, 'Cancel'):   # if user closes window or clicks cancel\n",
    "        break\n",
    "    print('You entered ', values[0])\n",
    "\n",
    "window.close()"
   ]
  },
  {
   "cell_type": "code",
   "execution_count": null,
   "metadata": {},
   "outputs": [],
   "source": [
    "import PySimpleGUI as sg\n",
    "\n",
    "sg.theme('DarkAmber')   # Add a touch of color\n",
    "# All the stuff inside your window.\n",
    "layout = [  [sg.Text('Some text on Row 1')],\n",
    "            [sg.Text('Enter something on Row 2'), sg.InputText()],\n",
    "            [sg.Button('Ok'), sg.Button('Cancel')] ]\n",
    "\n",
    "# Create the Window\n",
    "window = sg.Window('Window Title', layout)\n",
    "# Event Loop to process \"events\" and get the \"values\" of the inputs\n",
    "while True:\n",
    "    event, values = window.read()\n",
    "    if event in (None, 'Cancel'):   # if user closes window or clicks cancel\n",
    "        break\n",
    "    print('You entered ', values[0])\n",
    "\n",
    "# window.close()"
   ]
  },
  {
   "cell_type": "code",
   "execution_count": null,
   "metadata": {},
   "outputs": [],
   "source": []
  },
  {
   "cell_type": "code",
   "execution_count": null,
   "metadata": {},
   "outputs": [],
   "source": []
  },
  {
   "cell_type": "code",
   "execution_count": null,
   "metadata": {},
   "outputs": [],
   "source": []
  },
  {
   "cell_type": "code",
   "execution_count": null,
   "metadata": {},
   "outputs": [],
   "source": [
    "import tkinter as tk\n",
    "window = tk.Tk()"
   ]
  },
  {
   "cell_type": "code",
   "execution_count": null,
   "metadata": {},
   "outputs": [],
   "source": []
  },
  {
   "cell_type": "markdown",
   "metadata": {},
   "source": [
    "**tkinter**"
   ]
  },
  {
   "cell_type": "code",
   "execution_count": 7,
   "metadata": {},
   "outputs": [],
   "source": [
    "# example saved from https://www.reddit.com/r/learnpython/comments/gsvenp/how_do_i_make_it_so_that_my_buttons_and_entry_bar/\n",
    "\n",
    "from tkinter import * \n",
    "import tkinter as tk\n",
    "\n",
    "\n",
    "\n",
    "root = tk.Tk()\n",
    "root.title(\"Juice\") # program title\n",
    "root.geometry(\"500x500\") # program size\n",
    "root.resizable(width=False, height=False) # program resizable yes/no\n",
    "\n",
    "\n",
    "def shut_down(): # stop button shuts down the program \n",
    "    exit()\n",
    " \n",
    "\n",
    "textInput = Entry(width = 50, borderwidth = 2, state = DISABLED) # entry bar size, location, and disabled\n",
    "textInput.pack(side = TOP)\n",
    "\n",
    "\n",
    "myLabel = Label(root, text = \"Finish the lyrics\") # label \n",
    "myLabel.pack()\n",
    "\n",
    "\n",
    "def check_answer(): \n",
    "    textInput.delete(0, 'end')\n",
    "\n",
    "\n",
    "myButton2 = Button(text = \"Check\", command = check_answer, state = DISABLED)\n",
    "myButton2.pack(pady = 5, padx = 8)\n",
    "myButton3 = Button(text = \"Stop\", command = shut_down, state = DISABLED)\n",
    "myButton3.pack(pady = 5, padx = 4)\n",
    "\n",
    "def countdown(count):     \n",
    "    myLabel2['text'] = count\n",
    "    if count > 0:\n",
    "        root.after(1000, countdown, count-1)\n",
    "\n",
    "myLabel2 = tk.Label(root)\n",
    "\n",
    "\n",
    "def button_switch():\n",
    "    command = countdown\n",
    "    countdown(5)\n",
    "    myButton2[\"state\"] = \"active\"\n",
    "    myButton3[\"state\"] = \"active\"\n",
    "    textInput[\"state\"] = \"normal\"\n",
    "    myButton[\"state\"] = \"disabled\"\n",
    "    myButton.destroy()\n",
    "\n",
    "\n",
    "\n",
    "myButton = Button(text = \"Start\", command = button_switch)\n",
    "myButton.pack(pady = 5, padx = 8)\n",
    "\n",
    "myLabel2.pack(padx=35, pady=30)\n",
    "\n",
    "\n",
    "\n",
    "root.mainloop()"
   ]
  },
  {
   "cell_type": "code",
   "execution_count": 8,
   "metadata": {},
   "outputs": [],
   "source": [
    "# https://www.youtube.com/watch?v=YXPyB4XeYLA\n",
    "\n",
    "# for Python 3.x it's imported as ‘tkinter’\n",
    "from tkinter import *\n",
    "\n",
    "root = Tk()\n",
    "\n",
    "# create a label widget\n",
    "## evertyhing is a widget!\n",
    "myLabel = Label(root, text=\"Software Testing QuizSoftware Testing QuizSoftware Testing QuizSoftwa\\n re Testing QuizSoftware Testing QuizSoftware Testing QuizSoftware Testing Quiz\")\n",
    "\n",
    "\n",
    "# there are 3 main geometry manager classes\n",
    "# 1. Pack\n",
    "# 2. Grid\n",
    "# 3. Place\n",
    "\n",
    "\n",
    "\n",
    "myLabel.pack()\n",
    "\n",
    "# mainloop is used to run the application\n",
    "# waits for events\n",
    "# processes the event when they occur\n",
    "#... as long as the window is not closed of course\n",
    "root.mainloop()\n",
    "\n"
   ]
  },
  {
   "cell_type": "code",
   "execution_count": null,
   "metadata": {},
   "outputs": [],
   "source": [
    "# 7/19/20, this works\n",
    "from tkinter import *\n",
    "\n",
    "master = Tk()\n",
    "#create the things\n",
    "Label(master, text=\"First Name\").grid(row=0)\n",
    "Label(master, text=\"Last Name\").grid(row=1)\n",
    "\n",
    "e1 = Entry(master)\n",
    "e2 = Entry(master)\n",
    "\n",
    "# Put them on the screen\n",
    "e1.grid(row=0, column=1)\n",
    "e2.grid(row=1, column=1)\n",
    "\n",
    "mainloop( )"
   ]
  },
  {
   "cell_type": "markdown",
   "metadata": {},
   "source": [
    "**Tkinter Course - Create Graphic User Interfaces in Python Tutorial**\n",
    "* https://youtu.be/YXPyB4XeYLA?t=634\n",
    "\n",
    "\n",
    "\n",
    "* So pack is not a great way to organize things\n",
    "    * grid is better!\n"
   ]
  },
  {
   "cell_type": "code",
   "execution_count": 33,
   "metadata": {},
   "outputs": [],
   "source": [
    "# https://www.youtube.com/watch?v=YXPyB4XeYLA\n",
    "\n",
    "# for Python 3.x it's imported as ‘tkinter’\n",
    "from tkinter import *\n",
    "\n",
    "\n",
    "window = Tk()\n",
    "window.geometry(\"500x500\")\n",
    "# Add a window title\n",
    "# window.title(\"Software Testing Glossary Test\")\n",
    "# create a label widget\n",
    "# Everything is a widget!\n",
    "myLabel = Label(window,\n",
    "                text=\"Software Testing Quiz\")\n",
    "myLabel.pack()\n",
    "\n",
    "#create a button\n",
    "\n",
    "myButton = Button(window, text=\"click me\")\n",
    "\n",
    "# add a state, such as disabled\n",
    "# myButton2 = Button(window, text=\"don't click me\", state=DISABLED)\n",
    "\n",
    "# Create a click function\n",
    "def myClick1():\n",
    "    myLabel = Label(window, text='this just got clicked!')\n",
    "\n",
    "# try out the padx and pady\n",
    "myButton = Button(window, text=\"testing out the padding\", \n",
    "                   state=DISABLED, \n",
    "                   padx=50, \n",
    "                   pady=50, \n",
    "                   command =myClick1)\n",
    "#add the buttons to the window\n",
    "myButton.pack()\n",
    "# myButton2.pack()\n",
    "# myButton3.pack()\n",
    "\n",
    "\n",
    "\n",
    "\n",
    "# mainloop is used to run the application\n",
    "# waits for events\n",
    "# processes the event when they occur\n",
    "# ... as long as the window is not closed of course\n",
    "window.mainloop()\n"
   ]
  },
  {
   "cell_type": "markdown",
   "metadata": {},
   "source": [
    "There are 3 main geometry manager classes\n",
    " 1. Pack - just shoving it in there\n",
    " 2. Grid - set the location with row and column\n",
    " 3. Place - not yet covered"
   ]
  }
 ],
 "metadata": {
  "kernelspec": {
   "display_name": "Python 3",
   "language": "python",
   "name": "python3"
  },
  "language_info": {
   "codemirror_mode": {
    "name": "ipython",
    "version": 3
   },
   "file_extension": ".py",
   "mimetype": "text/x-python",
   "name": "python",
   "nbconvert_exporter": "python",
   "pygments_lexer": "ipython3",
   "version": "3.7.6"
  }
 },
 "nbformat": 4,
 "nbformat_minor": 4
}
